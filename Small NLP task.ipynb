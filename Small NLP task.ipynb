{
 "cells": [
  {
   "cell_type": "code",
   "execution_count": 23,
   "id": "38e51381-ce0f-49e5-945b-a85e9147b440",
   "metadata": {},
   "outputs": [],
   "source": [
    "import re\n",
    "import random\n",
    "import spacy\n",
    "\n",
    "import numpy as np\n",
    "import pandas as pd\n",
    "\n",
    "import matplotlib.pyplot as plt\n",
    "import matplotlib.lines as lines\n",
    "import matplotlib.text as text\n",
    "import matplotlib.cm as cm\n",
    "import seaborn as sns; sns.set()\n",
    "\n",
    "from sklearn.feature_extraction.text import TfidfVectorizer, CountVectorizer\n",
    "from sklearn.metrics import classification_report, confusion_matrix\n",
    "from sklearn.model_selection import train_test_split\n",
    "from sklearn.linear_model import LogisticRegression\n",
    "\n",
    "from catboost import CatBoostClassifier\n",
    "\n",
    "from sklearn.model_selection import GridSearchCV\n",
    "from sklearn.ensemble import RandomForestClassifier\n",
    "\n",
    "import itertools\n",
    "pd.options.display.width = 0\n",
    "pd.set_option('display.max_rows', 100)\n",
    "pd.set_option('display.max_columns', 11)\n",
    "\n",
    "spacy.prefer_gpu()\n",
    "nlp = spacy.load(\"en_core_web_sm\")\n",
    "lemmatizer = nlp.get_pipe(\"lemmatizer\")"
   ]
  },
  {
   "cell_type": "code",
   "execution_count": 73,
   "id": "66642215-eb34-49ca-8d12-afa77e21bf6d",
   "metadata": {},
   "outputs": [
    {
     "name": "stdout",
     "output_type": "stream",
     "text": [
      "['Pants on Fire!' 'Mostly True' 'False' 'True' 'Mostly False']\n"
     ]
    }
   ],
   "source": [
    "df = pd.read_csv('./files/politifact_clean.csv')\n",
    "print(df['veracity'].unique())"
   ]
  },
  {
   "cell_type": "code",
   "execution_count": 74,
   "id": "2066339f-b220-46b4-8d1c-97d4830a011b",
   "metadata": {},
   "outputs": [
    {
     "data": {
      "text/html": [
       "<div>\n",
       "<style scoped>\n",
       "    .dataframe tbody tr th:only-of-type {\n",
       "        vertical-align: middle;\n",
       "    }\n",
       "\n",
       "    .dataframe tbody tr th {\n",
       "        vertical-align: top;\n",
       "    }\n",
       "\n",
       "    .dataframe thead th {\n",
       "        text-align: right;\n",
       "    }\n",
       "</style>\n",
       "<table border=\"1\" class=\"dataframe\">\n",
       "  <thead>\n",
       "    <tr style=\"text-align: right;\">\n",
       "      <th></th>\n",
       "      <th>statement</th>\n",
       "      <th>source</th>\n",
       "      <th>link</th>\n",
       "      <th>veracity</th>\n",
       "    </tr>\n",
       "  </thead>\n",
       "  <tbody>\n",
       "    <tr>\n",
       "      <th>0</th>\n",
       "      <td>Sen. Kamala Harris is \"supporting the animals ...</td>\n",
       "      <td>Donald Trump</td>\n",
       "      <td>/web/20180705082623/https://www.politifact.com...</td>\n",
       "      <td>Pants on Fire!</td>\n",
       "    </tr>\n",
       "    <tr>\n",
       "      <th>1</th>\n",
       "      <td>Says Ronald Reagan said immigrants \"brought wi...</td>\n",
       "      <td>Becoming American Initiative</td>\n",
       "      <td>/web/20180705082623/https://www.politifact.com...</td>\n",
       "      <td>Mostly True</td>\n",
       "    </tr>\n",
       "    <tr>\n",
       "      <th>2</th>\n",
       "      <td>Says Democratic Senators \"demand Supreme Court...</td>\n",
       "      <td>Viral image</td>\n",
       "      <td>/web/20180705082623/https://www.politifact.com...</td>\n",
       "      <td>Pants on Fire!</td>\n",
       "    </tr>\n",
       "    <tr>\n",
       "      <th>3</th>\n",
       "      <td>\"Tim Kaine doesn’t want a border at all. He wa...</td>\n",
       "      <td>Corey  Stewart</td>\n",
       "      <td>/web/20180705082623/https://www.politifact.com...</td>\n",
       "      <td>Pants on Fire!</td>\n",
       "    </tr>\n",
       "    <tr>\n",
       "      <th>4</th>\n",
       "      <td>\"George H.W. Bush has died at 94.\"</td>\n",
       "      <td>Bloggers</td>\n",
       "      <td>/web/20180705082623/https://www.politifact.com...</td>\n",
       "      <td>Pants on Fire!</td>\n",
       "    </tr>\n",
       "  </tbody>\n",
       "</table>\n",
       "</div>"
      ],
      "text/plain": [
       "                                           statement  \\\n",
       "0  Sen. Kamala Harris is \"supporting the animals ...   \n",
       "1  Says Ronald Reagan said immigrants \"brought wi...   \n",
       "2  Says Democratic Senators \"demand Supreme Court...   \n",
       "3  \"Tim Kaine doesn’t want a border at all. He wa...   \n",
       "4                 \"George H.W. Bush has died at 94.\"   \n",
       "\n",
       "                         source  \\\n",
       "0                  Donald Trump   \n",
       "1  Becoming American Initiative   \n",
       "2                   Viral image   \n",
       "3                Corey  Stewart   \n",
       "4                      Bloggers   \n",
       "\n",
       "                                                link        veracity  \n",
       "0  /web/20180705082623/https://www.politifact.com...  Pants on Fire!  \n",
       "1  /web/20180705082623/https://www.politifact.com...     Mostly True  \n",
       "2  /web/20180705082623/https://www.politifact.com...  Pants on Fire!  \n",
       "3  /web/20180705082623/https://www.politifact.com...  Pants on Fire!  \n",
       "4  /web/20180705082623/https://www.politifact.com...  Pants on Fire!  "
      ]
     },
     "execution_count": 74,
     "metadata": {},
     "output_type": "execute_result"
    }
   ],
   "source": [
    "df.head()"
   ]
  },
  {
   "cell_type": "code",
   "execution_count": 75,
   "id": "4cbaf721-17c7-4ef2-9337-7dc8469fc6c7",
   "metadata": {},
   "outputs": [
    {
     "name": "stdout",
     "output_type": "stream",
     "text": [
      "veracity\n",
      "False             2641\n",
      "Mostly False      2335\n",
      "Mostly True       2695\n",
      "Pants on Fire!    1359\n",
      "True              2158\n",
      "Name: veracity, dtype: int64\n"
     ]
    },
    {
     "data": {
      "text/plain": [
       "<Axes: ylabel='veracity'>"
      ]
     },
     "execution_count": 75,
     "metadata": {},
     "output_type": "execute_result"
    },
    {
     "data": {
      "image/png": "[encoded data removed]",
      "text/plain": [
       "<Figure size 1800x600 with 1 Axes>"
      ]
     },
     "metadata": {},
     "output_type": "display_data"
    }
   ],
   "source": [
    "g = df.groupby('veracity')['veracity'].count().sort_values()\n",
    "print(df.groupby('veracity')['veracity'].count())\n",
    "sns.set(font_scale=1.5)\n",
    "f, ax = plt.subplots(figsize=(18, 6))\n",
    "sns.barplot(x = g.values, y = g.index, orient='h')"
   ]
  },
  {
   "cell_type": "code",
   "execution_count": 76,
   "id": "4a534b46-51f7-42d9-92d5-b4f49b513ce4",
   "metadata": {},
   "outputs": [],
   "source": [
    "import string\n",
    "\n",
    "def del_punct(str):\n",
    "  for punctuation in string.punctuation:\n",
    "    str = str.replace(punctuation, ' ')\n",
    "  return str\n",
    "\n",
    "    \n",
    "def normtext(txt):\n",
    "    '''\n",
    "    Возвращает текст из слов в нормальной форме\n",
    "    '''\n",
    "    txt = txt.lower()\n",
    "    txt = del_punct(txt)\n",
    "    doc = nlp(txt)\n",
    "    str1 = str(' '.join([token.lemma_ for token in doc if not token.is_stop]))\n",
    "    str1 = re.sub(' +', ' ', str1)\n",
    "    return str1"
   ]
  },
  {
   "cell_type": "code",
   "execution_count": 77,
   "id": "ab356cec-cd8b-438e-b370-9cbd50fe5286",
   "metadata": {},
   "outputs": [
    {
     "data": {
      "text/html": [
       "<div>\n",
       "<style scoped>\n",
       "    .dataframe tbody tr th:only-of-type {\n",
       "        vertical-align: middle;\n",
       "    }\n",
       "\n",
       "    .dataframe tbody tr th {\n",
       "        vertical-align: top;\n",
       "    }\n",
       "\n",
       "    .dataframe thead th {\n",
       "        text-align: right;\n",
       "    }\n",
       "</style>\n",
       "<table border=\"1\" class=\"dataframe\">\n",
       "  <thead>\n",
       "    <tr style=\"text-align: right;\">\n",
       "      <th></th>\n",
       "      <th>statement</th>\n",
       "      <th>source</th>\n",
       "      <th>link</th>\n",
       "      <th>veracity</th>\n",
       "      <th>text</th>\n",
       "      <th>class</th>\n",
       "    </tr>\n",
       "  </thead>\n",
       "  <tbody>\n",
       "    <tr>\n",
       "      <th>0</th>\n",
       "      <td>Sen. Kamala Harris is \"supporting the animals ...</td>\n",
       "      <td>Donald Trump</td>\n",
       "      <td>/web/20180705082623/https://www.politifact.com...</td>\n",
       "      <td>Pants on Fire!</td>\n",
       "      <td>sen kamala harris support animal ms 13</td>\n",
       "      <td>0</td>\n",
       "    </tr>\n",
       "    <tr>\n",
       "      <th>1</th>\n",
       "      <td>Says Ronald Reagan said immigrants \"brought wi...</td>\n",
       "      <td>Becoming American Initiative</td>\n",
       "      <td>/web/20180705082623/https://www.politifact.com...</td>\n",
       "      <td>Mostly True</td>\n",
       "      <td>say ronald reagan say immigrant   bring courag...</td>\n",
       "      <td>1</td>\n",
       "    </tr>\n",
       "    <tr>\n",
       "      <th>2</th>\n",
       "      <td>Says Democratic Senators \"demand Supreme Court...</td>\n",
       "      <td>Viral image</td>\n",
       "      <td>/web/20180705082623/https://www.politifact.com...</td>\n",
       "      <td>Pants on Fire!</td>\n",
       "      <td>say democratic senator demand supreme court no...</td>\n",
       "      <td>0</td>\n",
       "    </tr>\n",
       "    <tr>\n",
       "      <th>3</th>\n",
       "      <td>\"Tim Kaine doesn’t want a border at all. He wa...</td>\n",
       "      <td>Corey  Stewart</td>\n",
       "      <td>/web/20180705082623/https://www.politifact.com...</td>\n",
       "      <td>Pants on Fire!</td>\n",
       "      <td>tim kaine want border want rid immigration cu...</td>\n",
       "      <td>0</td>\n",
       "    </tr>\n",
       "    <tr>\n",
       "      <th>4</th>\n",
       "      <td>\"George H.W. Bush has died at 94.\"</td>\n",
       "      <td>Bloggers</td>\n",
       "      <td>/web/20180705082623/https://www.politifact.com...</td>\n",
       "      <td>Pants on Fire!</td>\n",
       "      <td>george h w bush die 94</td>\n",
       "      <td>0</td>\n",
       "    </tr>\n",
       "  </tbody>\n",
       "</table>\n",
       "</div>"
      ],
      "text/plain": [
       "                                           statement  \\\n",
       "0  Sen. Kamala Harris is \"supporting the animals ...   \n",
       "1  Says Ronald Reagan said immigrants \"brought wi...   \n",
       "2  Says Democratic Senators \"demand Supreme Court...   \n",
       "3  \"Tim Kaine doesn’t want a border at all. He wa...   \n",
       "4                 \"George H.W. Bush has died at 94.\"   \n",
       "\n",
       "                         source  \\\n",
       "0                  Donald Trump   \n",
       "1  Becoming American Initiative   \n",
       "2                   Viral image   \n",
       "3                Corey  Stewart   \n",
       "4                      Bloggers   \n",
       "\n",
       "                                                link        veracity  \\\n",
       "0  /web/20180705082623/https://www.politifact.com...  Pants on Fire!   \n",
       "1  /web/20180705082623/https://www.politifact.com...     Mostly True   \n",
       "2  /web/20180705082623/https://www.politifact.com...  Pants on Fire!   \n",
       "3  /web/20180705082623/https://www.politifact.com...  Pants on Fire!   \n",
       "4  /web/20180705082623/https://www.politifact.com...  Pants on Fire!   \n",
       "\n",
       "                                                text  class  \n",
       "0            sen kamala harris support animal ms 13       0  \n",
       "1  say ronald reagan say immigrant   bring courag...      1  \n",
       "2  say democratic senator demand supreme court no...      0  \n",
       "3   tim kaine want border want rid immigration cu...      0  \n",
       "4                            george h w bush die 94       0  "
      ]
     },
     "execution_count": 77,
     "metadata": {},
     "output_type": "execute_result"
    }
   ],
   "source": [
    "# cls_dic = {'Pants on Fire!':1,\n",
    "#            'False':2,\n",
    "#            'Mostly False':3,\n",
    "#            'Mostly True':4,\n",
    "#            'True':5,\n",
    "#            }\n",
    "\n",
    "cls_dic = {'Pants on Fire!':0,\n",
    "           'False':0,\n",
    "           'Mostly False':0,\n",
    "           'Mostly True':1,\n",
    "           'True':1,\n",
    "           }\n",
    "\n",
    "df['text'] = df.statement.map(lambda x: normtext(x))\n",
    "\n",
    "df['class'] = df['veracity'].map(lambda x: cls_dic[x])\n",
    "\n",
    "df.to_csv('./files/politifact_clean_with_lemmas.csv', index=False)\n",
    "\n",
    "df.head()"
   ]
  },
  {
   "cell_type": "code",
   "execution_count": null,
   "id": "20f4225d-9094-401c-9cd3-d6a214042435",
   "metadata": {},
   "outputs": [],
   "source": [
    "# тут я разбирался как писать эту штуку\n",
    "# doc = nlp(\"Apple, is looking at buying U.K. startup for $1 billion\")\n",
    "\n",
    "# filtered_tokens = [token.lemma_ for token in doc if not token.is_stop]\n",
    "# print(filtered_tokens)"
   ]
  },
  {
   "cell_type": "code",
   "execution_count": 24,
   "id": "2b420e7b-dc57-4a3e-981e-448716c93e7a",
   "metadata": {},
   "outputs": [
    {
     "data": {
      "text/plain": [
       "{'max_depth': 20, 'min_samples_split': 5, 'n_estimators': 200}"
      ]
     },
     "execution_count": 24,
     "metadata": {},
     "output_type": "execute_result"
    }
   ],
   "source": [
    "df = pd.read_csv('./files/politifact_clean_with_lemmas.csv')\n",
    "\n",
    "X_train, X_test, y_train, y_test = train_test_split(df.text, df['class'], random_state=42, test_size=0.1, stratify=df['class'])\n",
    "\n",
    "tfv = CountVectorizer(min_df = 0.01)  # Функция получения векторного представления\n",
    "X_train = tfv.fit_transform(X_train)\n",
    "X_test = tfv.transform(X_test)\n",
    "\n",
    "param_grid_rf = {\n",
    "    'n_estimators': [200],\n",
    "    'max_depth': [10, 20],\n",
    "    'min_samples_split': [5]\n",
    "}\n",
    "grid_rf = GridSearchCV(RandomForestClassifier(random_state=42), param_grid_rf, cv=3, scoring='f1_macro', n_jobs= -1)\n",
    "grid_rf.fit(X_train, y_train)\n",
    "grid_rf.score(X_test, y_test)\n",
    "grid_rf.best_params_"
   ]
  },
  {
   "cell_type": "code",
   "execution_count": 25,
   "id": "1fac5a56-9577-4640-b1c2-c7d9f65a8cd5",
   "metadata": {},
   "outputs": [],
   "source": [
    "def predictor(text, clf, tfv):\n",
    "    '''\n",
    "    text - классифицируемый текс\n",
    "    clf - обученный классификатор\n",
    "    tfv - обученный векторизатор\n",
    "    '''\n",
    "    # Векторизация текста\n",
    "    X_test = tfv.transform([text])\n",
    "\n",
    "    # Предсказание с помощью модели\n",
    "    pred = clf.predict(X_test)\n",
    "\n",
    "    return pred[0]\n",
    "\n",
    "def classifier():\n",
    "    '''\n",
    "    Создает классификатор\n",
    "    '''\n",
    "\n",
    "    tfv = CountVectorizer(min_df = 0.01)\n",
    "    X = tfv.fit_transform(df.text)\n",
    "    y = df['class']\n",
    "    X_train, X_test, y_train, y_test = train_test_split(X, y, random_state=42, test_size=0.1, stratify=y)\n",
    "\n",
    "    # Обучение модели (RF) на расширенных данных\n",
    "    # clf2 = RandomForestClassifier(random_state=42, max_depth=20, min_samples_split = 5, n_estimators = 200)\n",
    "    # clf2.fit(X_train, y_train)\n",
    "\n",
    "    param_grid_rf = {\n",
    "        'n_estimators': [1, 20, 42, 88, 200],\n",
    "        'max_depth': [3, 5, 7, 10, 15, 20],\n",
    "        'min_samples_split': [5, 10],\n",
    "        'criterion' : ['gini', 'entropy'],\n",
    "    }\n",
    "    grid_rf = GridSearchCV(RandomForestClassifier(random_state=42), param_grid_rf, cv=3, scoring='f1_macro', n_jobs= -1)\n",
    "    grid_rf.fit(X_train, y_train)\n",
    "    grid_rf.score(X_test, y_test)\n",
    "\n",
    "    # Оценка каскадной модели\n",
    "    accuracy = grid_rf.best_estimator_.score(X_test, y_test)\n",
    "    print(f'Accuracy of rf model: {accuracy}')\n",
    "\n",
    "    return tfv, grid_rf.best_estimator_ "
   ]
  },
  {
   "cell_type": "code",
   "execution_count": 26,
   "id": "709f093f-b860-4408-bfd7-3961cbd753f0",
   "metadata": {
    "scrolled": true
   },
   "outputs": [
    {
     "name": "stdout",
     "output_type": "stream",
     "text": [
      "Accuracy of rf model: 0.646112600536193\n"
     ]
    }
   ],
   "source": [
    "# Обучение\n",
    "\n",
    "X_train, X_test, y_train, y_test = train_test_split(df['text'], df['class'], random_state=42, test_size=0.15, stratify=df['class'])\n",
    "\n",
    "tfv, clf = classifier()\n"
   ]
  },
  {
   "cell_type": "code",
   "execution_count": 27,
   "id": "1e41bb53-f914-44d6-a88f-e5324309a88c",
   "metadata": {},
   "outputs": [
    {
     "name": "stdout",
     "output_type": "stream",
     "text": [
      "(1679,)\n",
      "(1679,)\n"
     ]
    }
   ],
   "source": [
    "# # Предсказание\n",
    "pred_save = []\n",
    "class_save = []\n",
    "pred = []\n",
    "print(X_test.shape)\n",
    "# X = tfv.fit_transform(df.text)\n",
    "for nom, txt in enumerate(X_test.values):\n",
    "    pred.append(predictor(txt, clf, tfv))\n",
    "print(X_test.shape)"
   ]
  },
  {
   "cell_type": "code",
   "execution_count": 28,
   "id": "eaa24003-2d93-42c3-83bc-c53f86b67a6a",
   "metadata": {},
   "outputs": [
    {
     "name": "stdout",
     "output_type": "stream",
     "text": [
      "              precision    recall  f1-score   support\n",
      "\n",
      "       False       0.65      0.86      0.74       951\n",
      "        True       0.69      0.40      0.51       728\n",
      "\n",
      "    accuracy                           0.66      1679\n",
      "   macro avg       0.67      0.63      0.63      1679\n",
      "weighted avg       0.67      0.66      0.64      1679\n",
      "\n"
     ]
    }
   ],
   "source": [
    "cls_dic = {0:'False',\n",
    "           1:'True',\n",
    "           }\n",
    "\n",
    "y_test_list = y_test.tolist()\n",
    "y_test_list.extend(class_save)\n",
    "pred_list = pred[:]\n",
    "pred_list.extend(pred_save)\n",
    "\n",
    "mtrs = classification_report([cls_dic[x] for x in y_test_list], [cls_dic[x] for x in pred_list])\n",
    "print(mtrs)"
   ]
  },
  {
   "cell_type": "code",
   "execution_count": 29,
   "id": "c83e704c-97f8-44da-a4db-27836dfc8583",
   "metadata": {},
   "outputs": [
    {
     "data": {
      "image/png": "[encoded data removed]",
      "text/plain": [
       "<Figure size 1400x1000 with 2 Axes>"
      ]
     },
     "metadata": {},
     "output_type": "display_data"
    }
   ],
   "source": [
    "def plot_confusion_matrix(cm, classes, f_size=16, normalize=False, title='Матрица ошибок', cmap=plt.cm.Blues):\n",
    "    \"\"\"\n",
    "    This function prints and plots the confusion matrix.\n",
    "    Normalization can be applied by setting 'normalize=True'\n",
    "    \"\"\"\n",
    "    plt.figure(figsize=(14,10))\n",
    "    plt.imshow(cm, interpolation='nearest', cmap=cmap)\n",
    "    plt.title(title, fontsize=f_size + 2)\n",
    "    cb = plt.colorbar()\n",
    "    cb.ax.tick_params(labelsize=f_size - 6)\n",
    "\n",
    "    tick_marks = np.arange(len(classes))\n",
    "    plt.xticks(tick_marks, classes, rotation=90, fontsize=f_size)\n",
    "    plt.yticks(tick_marks, classes, fontsize=f_size)\n",
    "\n",
    "    if normalize:\n",
    "        cm = cm.astype('float') / cm.sum(axis=1)[:, np.newaxis]\n",
    "        #print(\"Normalized confusion matrix\")\n",
    "    else:\n",
    "        pass\n",
    "        #print(\"Confusion matrix, without normalization\")\n",
    "\n",
    "    thresh = cm.max() / 2.\n",
    "    for i, j in itertools.product(range(cm.shape[0]), range(cm.shape[1])):\n",
    "        plt.text(j, i, cm[i, j], horizontalalignment=\"center\",\n",
    "                 color=\"white\" if cm[i, j] > thresh else \"black\", fontsize=f_size)\n",
    "    plt.tight_layout()\n",
    "    plt.ylabel('Действительный класс', fontsize=f_size + 1)\n",
    "    plt.xlabel('Предсказанный класс', fontsize=f_size + 1)\n",
    "    plt.show()\n",
    "\n",
    "# conf_matr = confusion_matrix(y_test_list, pred_list, normalize='true')\n",
    "cls_list = []\n",
    "for i in range(0,len(cls_dic)):\n",
    "  cls_list.append(cls_dic[i])\n",
    "conf_matr = confusion_matrix(y_test_list, pred_list)\n",
    "plot_confusion_matrix(conf_matr, cls_list,  f_size=16)"
   ]
  },
  {
   "cell_type": "code",
   "execution_count": null,
   "id": "f7de0182-3abf-4ce3-bc17-59448f74974a",
   "metadata": {},
   "outputs": [],
   "source": []
  }
 ],
 "metadata": {
  "kernelspec": {
   "display_name": "Python 3 (ipykernel)",
   "language": "python",
   "name": "python3"
  },
  "language_info": {
   "codemirror_mode": {
    "name": "ipython",
    "version": 3
   },
   "file_extension": ".py",
   "mimetype": "text/x-python",
   "name": "python",
   "nbconvert_exporter": "python",
   "pygments_lexer": "ipython3",
   "version": "3.12.0"
  }
 },
 "nbformat": 4,
 "nbformat_minor": 5
}
